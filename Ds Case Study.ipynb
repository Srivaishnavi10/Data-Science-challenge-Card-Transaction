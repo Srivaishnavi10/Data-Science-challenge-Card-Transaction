{
 "cells": [
  {
   "cell_type": "markdown",
   "id": "ad231289",
   "metadata": {},
   "source": [
    "## Data Science challenge: Card Transaction "
   ]
  },
  {
   "cell_type": "markdown",
   "id": "cef7acbe",
   "metadata": {},
   "source": [
    "Step 1: Load and Explore the Data"
   ]
  },
  {
   "cell_type": "code",
   "execution_count": 113,
   "id": "ff500edd",
   "metadata": {},
   "outputs": [],
   "source": [
    "import numpy as np\n",
    "import pandas as pd\n",
    "import json"
   ]
  },
  {
   "cell_type": "code",
   "execution_count": 114,
   "id": "56a058b9",
   "metadata": {},
   "outputs": [
    {
     "name": "stdout",
     "output_type": "stream",
     "text": [
      "Shape of data: (786363, 29)\n",
      "\n",
      "Columns:\n",
      " ['accountNumber', 'customerId', 'creditLimit', 'availableMoney', 'transactionDateTime', 'transactionAmount', 'merchantName', 'acqCountry', 'merchantCountryCode', 'posEntryMode', 'posConditionCode', 'merchantCategoryCode', 'currentExpDate', 'accountOpenDate', 'dateOfLastAddressChange', 'cardCVV', 'enteredCVV', 'cardLast4Digits', 'transactionType', 'echoBuffer', 'currentBalance', 'merchantCity', 'merchantState', 'merchantZip', 'cardPresent', 'posOnPremises', 'recurringAuthInd', 'expirationDateKeyInMatch', 'isFraud']\n",
      "\n",
      "Sample rows:\n",
      "   accountNumber customerId  creditLimit  availableMoney  transactionDateTime  \\\n",
      "0     737265056  737265056       5000.0          5000.0  2016-08-13T14:27:32   \n",
      "1     737265056  737265056       5000.0          5000.0  2016-10-11T05:05:54   \n",
      "2     737265056  737265056       5000.0          5000.0  2016-11-08T09:18:39   \n",
      "3     737265056  737265056       5000.0          5000.0  2016-12-10T02:14:50   \n",
      "4     830329091  830329091       5000.0          5000.0  2016-03-24T21:04:46   \n",
      "\n",
      "   transactionAmount         merchantName acqCountry merchantCountryCode  \\\n",
      "0              98.55                 Uber         US                  US   \n",
      "1              74.51          AMC #191138         US                  US   \n",
      "2               7.47           Play Store         US                  US   \n",
      "3               7.47           Play Store         US                  US   \n",
      "4              71.18  Tim Hortons #947751         US                  US   \n",
      "\n",
      "  posEntryMode  ... echoBuffer currentBalance merchantCity merchantState  \\\n",
      "0           02  ...                       0.0                              \n",
      "1           09  ...                       0.0                              \n",
      "2           09  ...                       0.0                              \n",
      "3           09  ...                       0.0                              \n",
      "4           02  ...                       0.0                              \n",
      "\n",
      "  merchantZip cardPresent posOnPremises recurringAuthInd  \\\n",
      "0                   False                                  \n",
      "1                    True                                  \n",
      "2                   False                                  \n",
      "3                   False                                  \n",
      "4                    True                                  \n",
      "\n",
      "  expirationDateKeyInMatch isFraud  \n",
      "0                    False   False  \n",
      "1                    False   False  \n",
      "2                    False   False  \n",
      "3                    False   False  \n",
      "4                    False   False  \n",
      "\n",
      "[5 rows x 29 columns]\n"
     ]
    }
   ],
   "source": [
    "with open(r\"C:\\Users\\thesr\\Downloads\\transactions.txt\", 'r') as file:\n",
    "    data = [json.loads(line) for line in file]\n",
    "\n",
    "df = pd.DataFrame(data)\n",
    "\n",
    "print(\"Shape of data:\", df.shape)\n",
    "print(\"\\nColumns:\\n\", df.columns.tolist())\n",
    "print(\"\\nSample rows:\\n\", df.head())"
   ]
  },
  {
   "cell_type": "code",
   "execution_count": 115,
   "id": "29cf2c2d",
   "metadata": {},
   "outputs": [
    {
     "name": "stdout",
     "output_type": "stream",
     "text": [
      "<class 'pandas.core.frame.DataFrame'>\n",
      "RangeIndex: 786363 entries, 0 to 786362\n",
      "Data columns (total 29 columns):\n",
      " #   Column                    Non-Null Count   Dtype  \n",
      "---  ------                    --------------   -----  \n",
      " 0   accountNumber             786363 non-null  object \n",
      " 1   customerId                786363 non-null  object \n",
      " 2   creditLimit               786363 non-null  float64\n",
      " 3   availableMoney            786363 non-null  float64\n",
      " 4   transactionDateTime       786363 non-null  object \n",
      " 5   transactionAmount         786363 non-null  float64\n",
      " 6   merchantName              786363 non-null  object \n",
      " 7   acqCountry                786363 non-null  object \n",
      " 8   merchantCountryCode       786363 non-null  object \n",
      " 9   posEntryMode              786363 non-null  object \n",
      " 10  posConditionCode          786363 non-null  object \n",
      " 11  merchantCategoryCode      786363 non-null  object \n",
      " 12  currentExpDate            786363 non-null  object \n",
      " 13  accountOpenDate           786363 non-null  object \n",
      " 14  dateOfLastAddressChange   786363 non-null  object \n",
      " 15  cardCVV                   786363 non-null  object \n",
      " 16  enteredCVV                786363 non-null  object \n",
      " 17  cardLast4Digits           786363 non-null  object \n",
      " 18  transactionType           786363 non-null  object \n",
      " 19  echoBuffer                786363 non-null  object \n",
      " 20  currentBalance            786363 non-null  float64\n",
      " 21  merchantCity              786363 non-null  object \n",
      " 22  merchantState             786363 non-null  object \n",
      " 23  merchantZip               786363 non-null  object \n",
      " 24  cardPresent               786363 non-null  bool   \n",
      " 25  posOnPremises             786363 non-null  object \n",
      " 26  recurringAuthInd          786363 non-null  object \n",
      " 27  expirationDateKeyInMatch  786363 non-null  bool   \n",
      " 28  isFraud                   786363 non-null  bool   \n",
      "dtypes: bool(3), float64(4), object(22)\n",
      "memory usage: 158.2+ MB\n"
     ]
    }
   ],
   "source": [
    "df.info()\n"
   ]
  },
  {
   "cell_type": "code",
   "execution_count": 117,
   "id": "32fad313",
   "metadata": {},
   "outputs": [
    {
     "name": "stdout",
     "output_type": "stream",
     "text": [
      "Data Summary:\n",
      "\n",
      "       accountNumber customerId   creditLimit availableMoney  \\\n",
      "count         786363     786363      786363.0       786363.0   \n",
      "unique          5000       5000            10         521916   \n",
      "top        380680241  380680241           NaN            NaN   \n",
      "freq           32850      32850           NaN            NaN   \n",
      "mean             NaN        NaN  10759.464459    6250.725369   \n",
      "std              NaN        NaN   11636.17489    8880.783989   \n",
      "min              NaN        NaN         250.0       -1005.63   \n",
      "25%              NaN        NaN        5000.0        1077.42   \n",
      "50%              NaN        NaN        7500.0        3184.86   \n",
      "75%              NaN        NaN       15000.0         7500.0   \n",
      "max              NaN        NaN       50000.0        50000.0   \n",
      "nulls              0          0             0              0   \n",
      "\n",
      "        transactionDateTime transactionAmount merchantName acqCountry  \\\n",
      "count                786363          786363.0       786363     786363   \n",
      "unique               776637             66038         2490          5   \n",
      "top     2016-12-25T14:04:15               NaN         Uber         US   \n",
      "freq                      4               NaN        25613     774709   \n",
      "mean                    NaN        136.985791          NaN        NaN   \n",
      "std                     NaN        147.725569          NaN        NaN   \n",
      "min                     NaN               0.0          NaN        NaN   \n",
      "25%                     NaN             33.65          NaN        NaN   \n",
      "50%                     NaN              87.9          NaN        NaN   \n",
      "75%                     NaN            191.48          NaN        NaN   \n",
      "max                     NaN           2011.54          NaN        NaN   \n",
      "nulls                     0                 0            0          0   \n",
      "\n",
      "       merchantCountryCode posEntryMode  ... echoBuffer currentBalance  \\\n",
      "count               786363       786363  ...     786363       786363.0   \n",
      "unique                   5            6  ...          1         487318   \n",
      "top                     US           05  ...                       NaN   \n",
      "freq                778511       315035  ...     786363            NaN   \n",
      "mean                   NaN          NaN  ...        NaN    4508.739089   \n",
      "std                    NaN          NaN  ...        NaN    6457.442068   \n",
      "min                    NaN          NaN  ...        NaN            0.0   \n",
      "25%                    NaN          NaN  ...        NaN         689.91   \n",
      "50%                    NaN          NaN  ...        NaN        2451.76   \n",
      "75%                    NaN          NaN  ...        NaN       5291.095   \n",
      "max                    NaN          NaN  ...        NaN       47498.81   \n",
      "nulls                    0            0  ...          0              0   \n",
      "\n",
      "       merchantCity merchantState merchantZip cardPresent posOnPremises  \\\n",
      "count        786363        786363      786363      786363        786363   \n",
      "unique            1             1           1           2             1   \n",
      "top                                                 False                 \n",
      "freq         786363        786363      786363      433495        786363   \n",
      "mean            NaN           NaN         NaN         NaN           NaN   \n",
      "std             NaN           NaN         NaN         NaN           NaN   \n",
      "min             NaN           NaN         NaN         NaN           NaN   \n",
      "25%             NaN           NaN         NaN         NaN           NaN   \n",
      "50%             NaN           NaN         NaN         NaN           NaN   \n",
      "75%             NaN           NaN         NaN         NaN           NaN   \n",
      "max             NaN           NaN         NaN         NaN           NaN   \n",
      "nulls             0             0           0           0             0   \n",
      "\n",
      "       recurringAuthInd expirationDateKeyInMatch isFraud  \n",
      "count            786363                   786363  786363  \n",
      "unique                1                        2       2  \n",
      "top                                        False   False  \n",
      "freq             786363                   785320  773946  \n",
      "mean                NaN                      NaN     NaN  \n",
      "std                 NaN                      NaN     NaN  \n",
      "min                 NaN                      NaN     NaN  \n",
      "25%                 NaN                      NaN     NaN  \n",
      "50%                 NaN                      NaN     NaN  \n",
      "75%                 NaN                      NaN     NaN  \n",
      "max                 NaN                      NaN     NaN  \n",
      "nulls                 0                        0       0  \n",
      "\n",
      "[12 rows x 29 columns]\n"
     ]
    }
   ],
   "source": [
    "print(summary.transpose()) "
   ]
  },
  {
   "cell_type": "markdown",
   "id": "0c53277f",
   "metadata": {},
   "source": [
    "Observation:\n",
    "1. Some negative balances in availableMoney may indicate overdrafts or reversed transactions.\n",
    "2. merchantName is a key feature for spending patterns and possibly fraud detection.\n",
    "3. Highly imbalanced fraud labels, this will be critical when building the model"
   ]
  },
  {
   "cell_type": "code",
   "execution_count": 118,
   "id": "92f532c1",
   "metadata": {},
   "outputs": [
    {
     "data": {
      "text/html": [
       "<div>\n",
       "<style scoped>\n",
       "    .dataframe tbody tr th:only-of-type {\n",
       "        vertical-align: middle;\n",
       "    }\n",
       "\n",
       "    .dataframe tbody tr th {\n",
       "        vertical-align: top;\n",
       "    }\n",
       "\n",
       "    .dataframe thead th {\n",
       "        text-align: right;\n",
       "    }\n",
       "</style>\n",
       "<table border=\"1\" class=\"dataframe\">\n",
       "  <thead>\n",
       "    <tr style=\"text-align: right;\">\n",
       "      <th></th>\n",
       "      <th>DataType</th>\n",
       "      <th>Non-Null Count</th>\n",
       "      <th>Unique Values</th>\n",
       "      <th>Example Value</th>\n",
       "    </tr>\n",
       "  </thead>\n",
       "  <tbody>\n",
       "    <tr>\n",
       "      <th>transactionDateTime</th>\n",
       "      <td>object</td>\n",
       "      <td>786363</td>\n",
       "      <td>776637</td>\n",
       "      <td>2016-08-13T14:27:32</td>\n",
       "    </tr>\n",
       "    <tr>\n",
       "      <th>availableMoney</th>\n",
       "      <td>float64</td>\n",
       "      <td>786363</td>\n",
       "      <td>521916</td>\n",
       "      <td>5000.0</td>\n",
       "    </tr>\n",
       "    <tr>\n",
       "      <th>currentBalance</th>\n",
       "      <td>float64</td>\n",
       "      <td>786363</td>\n",
       "      <td>487318</td>\n",
       "      <td>0.0</td>\n",
       "    </tr>\n",
       "    <tr>\n",
       "      <th>transactionAmount</th>\n",
       "      <td>float64</td>\n",
       "      <td>786363</td>\n",
       "      <td>66038</td>\n",
       "      <td>98.55</td>\n",
       "    </tr>\n",
       "    <tr>\n",
       "      <th>cardLast4Digits</th>\n",
       "      <td>object</td>\n",
       "      <td>786363</td>\n",
       "      <td>5246</td>\n",
       "      <td>1803</td>\n",
       "    </tr>\n",
       "    <tr>\n",
       "      <th>accountNumber</th>\n",
       "      <td>object</td>\n",
       "      <td>786363</td>\n",
       "      <td>5000</td>\n",
       "      <td>737265056</td>\n",
       "    </tr>\n",
       "    <tr>\n",
       "      <th>customerId</th>\n",
       "      <td>object</td>\n",
       "      <td>786363</td>\n",
       "      <td>5000</td>\n",
       "      <td>737265056</td>\n",
       "    </tr>\n",
       "    <tr>\n",
       "      <th>merchantName</th>\n",
       "      <td>object</td>\n",
       "      <td>786363</td>\n",
       "      <td>2490</td>\n",
       "      <td>Uber</td>\n",
       "    </tr>\n",
       "    <tr>\n",
       "      <th>dateOfLastAddressChange</th>\n",
       "      <td>object</td>\n",
       "      <td>786363</td>\n",
       "      <td>2184</td>\n",
       "      <td>2015-03-14</td>\n",
       "    </tr>\n",
       "    <tr>\n",
       "      <th>accountOpenDate</th>\n",
       "      <td>object</td>\n",
       "      <td>786363</td>\n",
       "      <td>1820</td>\n",
       "      <td>2015-03-14</td>\n",
       "    </tr>\n",
       "    <tr>\n",
       "      <th>enteredCVV</th>\n",
       "      <td>object</td>\n",
       "      <td>786363</td>\n",
       "      <td>976</td>\n",
       "      <td>414</td>\n",
       "    </tr>\n",
       "    <tr>\n",
       "      <th>cardCVV</th>\n",
       "      <td>object</td>\n",
       "      <td>786363</td>\n",
       "      <td>899</td>\n",
       "      <td>414</td>\n",
       "    </tr>\n",
       "    <tr>\n",
       "      <th>currentExpDate</th>\n",
       "      <td>object</td>\n",
       "      <td>786363</td>\n",
       "      <td>165</td>\n",
       "      <td>06/2023</td>\n",
       "    </tr>\n",
       "    <tr>\n",
       "      <th>merchantCategoryCode</th>\n",
       "      <td>object</td>\n",
       "      <td>786363</td>\n",
       "      <td>19</td>\n",
       "      <td>rideshare</td>\n",
       "    </tr>\n",
       "    <tr>\n",
       "      <th>creditLimit</th>\n",
       "      <td>float64</td>\n",
       "      <td>786363</td>\n",
       "      <td>10</td>\n",
       "      <td>5000.0</td>\n",
       "    </tr>\n",
       "    <tr>\n",
       "      <th>posEntryMode</th>\n",
       "      <td>object</td>\n",
       "      <td>786363</td>\n",
       "      <td>6</td>\n",
       "      <td>02</td>\n",
       "    </tr>\n",
       "    <tr>\n",
       "      <th>merchantCountryCode</th>\n",
       "      <td>object</td>\n",
       "      <td>786363</td>\n",
       "      <td>5</td>\n",
       "      <td>US</td>\n",
       "    </tr>\n",
       "    <tr>\n",
       "      <th>acqCountry</th>\n",
       "      <td>object</td>\n",
       "      <td>786363</td>\n",
       "      <td>5</td>\n",
       "      <td>US</td>\n",
       "    </tr>\n",
       "    <tr>\n",
       "      <th>transactionType</th>\n",
       "      <td>object</td>\n",
       "      <td>786363</td>\n",
       "      <td>4</td>\n",
       "      <td>PURCHASE</td>\n",
       "    </tr>\n",
       "    <tr>\n",
       "      <th>posConditionCode</th>\n",
       "      <td>object</td>\n",
       "      <td>786363</td>\n",
       "      <td>4</td>\n",
       "      <td>01</td>\n",
       "    </tr>\n",
       "    <tr>\n",
       "      <th>cardPresent</th>\n",
       "      <td>bool</td>\n",
       "      <td>786363</td>\n",
       "      <td>2</td>\n",
       "      <td>False</td>\n",
       "    </tr>\n",
       "    <tr>\n",
       "      <th>expirationDateKeyInMatch</th>\n",
       "      <td>bool</td>\n",
       "      <td>786363</td>\n",
       "      <td>2</td>\n",
       "      <td>False</td>\n",
       "    </tr>\n",
       "    <tr>\n",
       "      <th>isFraud</th>\n",
       "      <td>bool</td>\n",
       "      <td>786363</td>\n",
       "      <td>2</td>\n",
       "      <td>False</td>\n",
       "    </tr>\n",
       "    <tr>\n",
       "      <th>merchantZip</th>\n",
       "      <td>object</td>\n",
       "      <td>786363</td>\n",
       "      <td>1</td>\n",
       "      <td></td>\n",
       "    </tr>\n",
       "    <tr>\n",
       "      <th>merchantState</th>\n",
       "      <td>object</td>\n",
       "      <td>786363</td>\n",
       "      <td>1</td>\n",
       "      <td></td>\n",
       "    </tr>\n",
       "    <tr>\n",
       "      <th>posOnPremises</th>\n",
       "      <td>object</td>\n",
       "      <td>786363</td>\n",
       "      <td>1</td>\n",
       "      <td></td>\n",
       "    </tr>\n",
       "    <tr>\n",
       "      <th>recurringAuthInd</th>\n",
       "      <td>object</td>\n",
       "      <td>786363</td>\n",
       "      <td>1</td>\n",
       "      <td></td>\n",
       "    </tr>\n",
       "    <tr>\n",
       "      <th>merchantCity</th>\n",
       "      <td>object</td>\n",
       "      <td>786363</td>\n",
       "      <td>1</td>\n",
       "      <td></td>\n",
       "    </tr>\n",
       "    <tr>\n",
       "      <th>echoBuffer</th>\n",
       "      <td>object</td>\n",
       "      <td>786363</td>\n",
       "      <td>1</td>\n",
       "      <td></td>\n",
       "    </tr>\n",
       "  </tbody>\n",
       "</table>\n",
       "</div>"
      ],
      "text/plain": [
       "                         DataType  Non-Null Count  Unique Values  \\\n",
       "transactionDateTime        object          786363         776637   \n",
       "availableMoney            float64          786363         521916   \n",
       "currentBalance            float64          786363         487318   \n",
       "transactionAmount         float64          786363          66038   \n",
       "cardLast4Digits            object          786363           5246   \n",
       "accountNumber              object          786363           5000   \n",
       "customerId                 object          786363           5000   \n",
       "merchantName               object          786363           2490   \n",
       "dateOfLastAddressChange    object          786363           2184   \n",
       "accountOpenDate            object          786363           1820   \n",
       "enteredCVV                 object          786363            976   \n",
       "cardCVV                    object          786363            899   \n",
       "currentExpDate             object          786363            165   \n",
       "merchantCategoryCode       object          786363             19   \n",
       "creditLimit               float64          786363             10   \n",
       "posEntryMode               object          786363              6   \n",
       "merchantCountryCode        object          786363              5   \n",
       "acqCountry                 object          786363              5   \n",
       "transactionType            object          786363              4   \n",
       "posConditionCode           object          786363              4   \n",
       "cardPresent                  bool          786363              2   \n",
       "expirationDateKeyInMatch     bool          786363              2   \n",
       "isFraud                      bool          786363              2   \n",
       "merchantZip                object          786363              1   \n",
       "merchantState              object          786363              1   \n",
       "posOnPremises              object          786363              1   \n",
       "recurringAuthInd           object          786363              1   \n",
       "merchantCity               object          786363              1   \n",
       "echoBuffer                 object          786363              1   \n",
       "\n",
       "                                Example Value  \n",
       "transactionDateTime       2016-08-13T14:27:32  \n",
       "availableMoney                         5000.0  \n",
       "currentBalance                            0.0  \n",
       "transactionAmount                       98.55  \n",
       "cardLast4Digits                          1803  \n",
       "accountNumber                       737265056  \n",
       "customerId                          737265056  \n",
       "merchantName                             Uber  \n",
       "dateOfLastAddressChange            2015-03-14  \n",
       "accountOpenDate                    2015-03-14  \n",
       "enteredCVV                                414  \n",
       "cardCVV                                   414  \n",
       "currentExpDate                        06/2023  \n",
       "merchantCategoryCode                rideshare  \n",
       "creditLimit                            5000.0  \n",
       "posEntryMode                               02  \n",
       "merchantCountryCode                        US  \n",
       "acqCountry                                 US  \n",
       "transactionType                      PURCHASE  \n",
       "posConditionCode                           01  \n",
       "cardPresent                             False  \n",
       "expirationDateKeyInMatch                False  \n",
       "isFraud                                 False  \n",
       "merchantZip                                    \n",
       "merchantState                                  \n",
       "posOnPremises                                  \n",
       "recurringAuthInd                               \n",
       "merchantCity                                   \n",
       "echoBuffer                                     "
      ]
     },
     "execution_count": 118,
     "metadata": {},
     "output_type": "execute_result"
    }
   ],
   "source": [
    "summary_df = pd.DataFrame({\n",
    "    'DataType': df.dtypes,\n",
    "    'Non-Null Count': df.notnull().sum(),\n",
    "    'Unique Values': df.nunique(),\n",
    "    'Example Value': df.iloc[0]\n",
    "})\n",
    "\n",
    "summary_df.sort_values('Unique Values', ascending=False)\n"
   ]
  },
  {
   "cell_type": "markdown",
   "id": "7b3962ad",
   "metadata": {},
   "source": [
    "## Cleanup and Feature Engineering"
   ]
  },
  {
   "cell_type": "markdown",
   "id": "4610ae43",
   "metadata": {},
   "source": [
    "Earlier I applied OHE on all the features which can cause out of memory issue:\n",
    "\n",
    "Categorical columns selected for one-hot encoding:\n",
    "\n",
    "['merchantCategoryCode', 'acqCountry', 'posEntryMode', 'posConditionCode', 'transactionType', 'merchantName']\n",
    "\n",
    "Shape after encoding: (786363, 2539)"
   ]
  },
  {
   "cell_type": "code",
   "execution_count": 119,
   "id": "d91511ef",
   "metadata": {},
   "outputs": [],
   "source": [
    "# Drop columns with no variance\n",
    "no_variance_cols = ['echoBuffer', 'merchantCity', 'merchantState', 'merchantZip', \n",
    "                    'posOnPremises', 'recurringAuthInd']\n",
    "df_cleaned = df.drop(columns=no_variance_cols)"
   ]
  },
  {
   "cell_type": "code",
   "execution_count": 120,
   "id": "df32304c",
   "metadata": {},
   "outputs": [],
   "source": [
    "# Convert empty strings to NaN in all object-type columns\n",
    "string_cols = df_cleaned.select_dtypes(include='object').columns\n",
    "df_cleaned[string_cols] = df_cleaned[string_cols].replace('', np.nan)"
   ]
  },
  {
   "cell_type": "code",
   "execution_count": 121,
   "id": "87ce3b53",
   "metadata": {},
   "outputs": [],
   "source": [
    "# Extract datetime features\n",
    "df_cleaned['transactionDateTime'] = pd.to_datetime(df_cleaned['transactionDateTime'])\n",
    "\n",
    "df_cleaned['transactionHour'] = df_cleaned['transactionDateTime'].dt.hour\n",
    "df_cleaned['transactionDay'] = df_cleaned['transactionDateTime'].dt.day\n",
    "df_cleaned['transactionWeekday'] = df_cleaned['transactionDateTime'].dt.weekday\n",
    "df_cleaned['transactionMonth'] = df_cleaned['transactionDateTime'].dt.month"
   ]
  },
  {
   "cell_type": "code",
   "execution_count": 122,
   "id": "fa1b0139",
   "metadata": {},
   "outputs": [],
   "source": [
    "# Cap merchantName to Top 50 only\n",
    "top_merchants = df_cleaned['merchantName'].value_counts().nlargest(50).index\n",
    "df_cleaned['merchantName'] = df_cleaned['merchantName'].where(df_cleaned['merchantName'].isin(top_merchants), 'Other')"
   ]
  },
  {
   "cell_type": "code",
   "execution_count": 123,
   "id": "4b362382",
   "metadata": {},
   "outputs": [
    {
     "name": "stdout",
     "output_type": "stream",
     "text": [
      "Categorical columns selected for one-hot encoding (with merchantName capped to Top 50):\n",
      "['merchantCategoryCode', 'acqCountry', 'posEntryMode', 'posConditionCode', 'transactionType', 'merchantName']\n"
     ]
    }
   ],
   "source": [
    "# One-hot encode selected categorical features\n",
    "categorical_cols = ['merchantCategoryCode', 'acqCountry', 'posEntryMode', \n",
    "                    'posConditionCode', 'transactionType', 'merchantName']\n",
    "\n",
    "print(\"Categorical columns selected for one-hot encoding (with merchantName capped to Top 50):\")\n",
    "print(categorical_cols)"
   ]
  },
  {
   "cell_type": "code",
   "execution_count": 124,
   "id": "15a7a4ec",
   "metadata": {},
   "outputs": [
    {
     "name": "stdout",
     "output_type": "stream",
     "text": [
      " Final shape after encoding: (786363, 100)\n"
     ]
    }
   ],
   "source": [
    "df_encoded = pd.get_dummies(df_cleaned, columns=categorical_cols, drop_first=True)\n",
    "\n",
    "print(\" Final shape after encoding:\", df_encoded.shape)"
   ]
  },
  {
   "cell_type": "markdown",
   "id": "13874df0",
   "metadata": {},
   "source": [
    "## 2.  Plot the Histogram of transactionAmount"
   ]
  },
  {
   "cell_type": "code",
   "execution_count": 125,
   "id": "92e13050",
   "metadata": {},
   "outputs": [
    {
     "name": "stderr",
     "output_type": "stream",
     "text": [
      "C:\\Users\\pc\\anaconda3\\lib\\site-packages\\seaborn\\_core.py:1225: FutureWarning: is_categorical_dtype is deprecated and will be removed in a future version. Use isinstance(dtype, CategoricalDtype) instead\n",
      "  if pd.api.types.is_categorical_dtype(vector):\n",
      "C:\\Users\\pc\\anaconda3\\lib\\site-packages\\seaborn\\_core.py:1225: FutureWarning: is_categorical_dtype is deprecated and will be removed in a future version. Use isinstance(dtype, CategoricalDtype) instead\n",
      "  if pd.api.types.is_categorical_dtype(vector):\n",
      "C:\\Users\\pc\\anaconda3\\lib\\site-packages\\seaborn\\_core.py:1225: FutureWarning: is_categorical_dtype is deprecated and will be removed in a future version. Use isinstance(dtype, CategoricalDtype) instead\n",
      "  if pd.api.types.is_categorical_dtype(vector):\n"
     ]
    },
    {
     "data": {
      "image/png": "[encoded data removed]",
      "text/plain": [
       "<Figure size 432x288 with 1 Axes>"
      ]
     },
     "metadata": {
      "needs_background": "light"
     },
     "output_type": "display_data"
    },
    {
     "name": "stdout",
     "output_type": "stream",
     "text": [
      "\n",
      "Target Class Distribution:\n",
      "isFraud\n",
      "False    773946\n",
      "True      12417\n",
      "Name: count, dtype: int64\n",
      "\n",
      "Fraud Ratio: 1.5790%\n"
     ]
    },
    {
     "name": "stderr",
     "output_type": "stream",
     "text": [
      "C:\\Users\\pc\\AppData\\Local\\Temp\\ipykernel_38892\\3556506643.py:18: FutureWarning: Series.__getitem__ treating keys as positions is deprecated. In a future version, integer keys will always be treated as labels (consistent with DataFrame behavior). To access a value by position, use `ser.iloc[pos]`\n",
      "  print(\"\\nFraud Ratio: {:.4f}%\".format(100 * class_counts[1] / class_counts.sum()))\n"
     ]
    }
   ],
   "source": [
    "import matplotlib.pyplot as plt\n",
    "import seaborn as sns\n",
    "\n",
    "plt.figure(figsize=(6, 4))\n",
    "sns.countplot(data=df, x='isFraud')\n",
    "plt.title('Fraud Label Distribution')\n",
    "plt.xlabel('isFraud')\n",
    "plt.ylabel('Count')\n",
    "plt.grid(True)\n",
    "plt.tight_layout()\n",
    "plt.show()\n",
    "\n",
    "class_counts = df['isFraud'].value_counts()\n",
    "print(\"\\nTarget Class Distribution:\")\n",
    "print(class_counts)\n",
    "print(\"\\nFraud Ratio: {:.4f}%\".format(100 * class_counts[1] / class_counts.sum()))\n"
   ]
  },
  {
   "cell_type": "markdown",
   "id": "933b68e0",
   "metadata": {},
   "source": [
    "## Fraud is only 1.58% of the data which clearly shows the class imbalance"
   ]
  },
  {
   "cell_type": "code",
   "execution_count": 126,
   "id": "61b2d15a",
   "metadata": {},
   "outputs": [
    {
     "data": {
      "image/png": "[encoded data removed]",
      "text/plain": [
       "<Figure size 720x432 with 1 Axes>"
      ]
     },
     "metadata": {
      "needs_background": "light"
     },
     "output_type": "display_data"
    }
   ],
   "source": [
    "import matplotlib.pyplot as plt\n",
    "\n",
    "plt.figure(figsize=(10, 6))\n",
    "plt.hist(df['transactionAmount'], bins=100, edgecolor='black')\n",
    "plt.title('Distribution of Transaction Amounts')\n",
    "plt.xlabel('Transaction Amount ($)')\n",
    "plt.ylabel('Frequency')\n",
    "plt.grid(True)\n",
    "plt.show()\n"
   ]
  },
  {
   "cell_type": "markdown",
   "id": "2245c060",
   "metadata": {},
   "source": [
    " Hypotheses Based on the Structure"
   ]
  },
  {
   "cell_type": "markdown",
   "id": "afb34258",
   "metadata": {},
   "source": [
    "To get a sense of how much people are typically spending, I plotted a histogram of the transactionAmount column. What stood out immediately is that the distribution is heavily right-skewed. in other words, most transactions are small, and larger transactions are much less common.\n",
    "\n",
    "The biggest spike is for transactions under 50, and the frequency steadily drops as amounts increase. There’s a long tail extending all the way past 2000, but those large transactions are pretty rare."
   ]
  },
  {
   "cell_type": "markdown",
   "id": "4f08c4a0",
   "metadata": {},
   "source": [
    "This kind of shape makes sense for everyday consumer behavior. Most of us swipe our cards for small stuffs like coffee, ride shares, takeout and only occasionally for big purchases.\n",
    "\n",
    "It also made me think about fraud patterns. Small transactions could be “test charges” to check if a card is active (a common fraud tactic), while big transactions might be cash-out attempts or unauthorized expensive purchases. So I’d definitely want to explore how fraud is distributed across different transaction sizes."
   ]
  },
  {
   "cell_type": "code",
   "execution_count": 149,
   "id": "0bc8894f",
   "metadata": {},
   "outputs": [
    {
     "name": "stderr",
     "output_type": "stream",
     "text": [
      "C:\\Users\\pc\\anaconda3\\lib\\site-packages\\seaborn\\_core.py:1225: FutureWarning: is_categorical_dtype is deprecated and will be removed in a future version. Use isinstance(dtype, CategoricalDtype) instead\n",
      "  if pd.api.types.is_categorical_dtype(vector):\n",
      "C:\\Users\\pc\\anaconda3\\lib\\site-packages\\seaborn\\_core.py:1225: FutureWarning: is_categorical_dtype is deprecated and will be removed in a future version. Use isinstance(dtype, CategoricalDtype) instead\n",
      "  if pd.api.types.is_categorical_dtype(vector):\n",
      "C:\\Users\\pc\\anaconda3\\lib\\site-packages\\seaborn\\_core.py:1225: FutureWarning: is_categorical_dtype is deprecated and will be removed in a future version. Use isinstance(dtype, CategoricalDtype) instead\n",
      "  if pd.api.types.is_categorical_dtype(vector):\n"
     ]
    },
    {
     "data": {
      "image/png": "[encoded data removed]",
      "text/plain": [
       "<Figure size 432x288 with 1 Axes>"
      ]
     },
     "metadata": {
      "needs_background": "light"
     },
     "output_type": "display_data"
    }
   ],
   "source": [
    "sns.boxplot(x='isFraud', y='transactionAmount', data=df_cleaned)\n",
    "plt.yscale('log')\n",
    "plt.title('Transaction Amount Distribution by Fraud')\n",
    "plt.show()\n"
   ]
  },
  {
   "cell_type": "markdown",
   "id": "1fa3b1ec",
   "metadata": {},
   "source": [
    "Insight:\n",
    "While both fraud and non-fraud transactions share a similar range, fraudulent ones tend to have a higher median amount and wider spread. This supports the idea that many frauds involve moderate to large amounts — useful for feature engineering and anomaly detection.\n"
   ]
  },
  {
   "cell_type": "code",
   "execution_count": 150,
   "id": "c2d53c82",
   "metadata": {},
   "outputs": [
    {
     "name": "stderr",
     "output_type": "stream",
     "text": [
      "C:\\Users\\pc\\anaconda3\\lib\\site-packages\\seaborn\\_core.py:1225: FutureWarning: is_categorical_dtype is deprecated and will be removed in a future version. Use isinstance(dtype, CategoricalDtype) instead\n",
      "  if pd.api.types.is_categorical_dtype(vector):\n",
      "C:\\Users\\pc\\anaconda3\\lib\\site-packages\\seaborn\\_core.py:1225: FutureWarning: is_categorical_dtype is deprecated and will be removed in a future version. Use isinstance(dtype, CategoricalDtype) instead\n",
      "  if pd.api.types.is_categorical_dtype(vector):\n",
      "C:\\Users\\pc\\anaconda3\\lib\\site-packages\\seaborn\\_core.py:1225: FutureWarning: is_categorical_dtype is deprecated and will be removed in a future version. Use isinstance(dtype, CategoricalDtype) instead\n",
      "  if pd.api.types.is_categorical_dtype(vector):\n"
     ]
    },
    {
     "data": {
      "image/png": "[encoded data removed]",
      "text/plain": [
       "<Figure size 576x360 with 1 Axes>"
      ]
     },
     "metadata": {
      "needs_background": "light"
     },
     "output_type": "display_data"
    }
   ],
   "source": [
    "plt.figure(figsize=(8, 5))\n",
    "sns.boxplot(data=df, x='isFraud', y='transactionAmount')\n",
    "plt.yscale('log')\n",
    "plt.title('Transaction Amount Distribution by Fraud')\n",
    "plt.xlabel('isFraud')\n",
    "plt.ylabel('transactionAmount (log scale)')\n",
    "plt.grid(True)\n",
    "plt.show()\n"
   ]
  },
  {
   "cell_type": "markdown",
   "id": "356e3f17",
   "metadata": {},
   "source": [
    "## Log Transform transactionAmount to Handle Skew"
   ]
  },
  {
   "cell_type": "code",
   "execution_count": 127,
   "id": "5cbec52c",
   "metadata": {},
   "outputs": [
    {
     "data": {
      "image/png": "[encoded data removed]",
      "text/plain": [
       "<Figure size 720x360 with 1 Axes>"
      ]
     },
     "metadata": {
      "needs_background": "light"
     },
     "output_type": "display_data"
    }
   ],
   "source": [
    "df_cleaned['log_transactionAmount'] = np.log1p(df_cleaned['transactionAmount'])\n",
    "\n",
    "plt.figure(figsize=(10, 5))\n",
    "plt.hist(df_cleaned['log_transactionAmount'], bins=50, edgecolor='black')\n",
    "plt.title('Log-Transformed Transaction Amount')\n",
    "plt.xlabel('log(1 + transactionAmount)')\n",
    "plt.ylabel('Frequency')\n",
    "plt.grid(True)\n",
    "plt.show()\n"
   ]
  },
  {
   "cell_type": "code",
   "execution_count": 128,
   "id": "3a03f5ee",
   "metadata": {},
   "outputs": [
    {
     "name": "stdout",
     "output_type": "stream",
     "text": [
      "amountCategory\n",
      "Medium    334307\n",
      "Low       266424\n",
      "High      185632\n",
      "Name: count, dtype: int64\n"
     ]
    }
   ],
   "source": [
    "\n",
    "bins = [0, 50, 200, df_cleaned['transactionAmount'].max()]\n",
    "labels = ['Low', 'Medium', 'High']\n",
    "\n",
    "df_cleaned['amountCategory'] = pd.cut(df_cleaned['transactionAmount'], bins=bins, labels=labels, include_lowest=True)\n",
    "\n",
    "print(df_cleaned['amountCategory'].value_counts())\n"
   ]
  },
  {
   "cell_type": "code",
   "execution_count": 129,
   "id": "bfa7462c",
   "metadata": {},
   "outputs": [
    {
     "data": {
      "image/png": "[encoded data removed]",
      "text/plain": [
       "<Figure size 864x432 with 1 Axes>"
      ]
     },
     "metadata": {
      "needs_background": "light"
     },
     "output_type": "display_data"
    }
   ],
   "source": [
    "plt.figure(figsize=(12, 6))\n",
    "\n",
    "plt.hist(df_cleaned[df_cleaned['isFraud'] == False]['transactionAmount'], \n",
    "         bins=100, alpha=0.6, label='Not Fraud', color='blue')\n",
    "\n",
    "plt.hist(df_cleaned[df_cleaned['isFraud'] == True]['transactionAmount'], \n",
    "         bins=100, alpha=0.6, label='Fraud', color='red')\n",
    "\n",
    "plt.title('Transaction Amount Distribution: Fraud vs. Non-Fraud')\n",
    "plt.xlabel('Transaction Amount ($)')\n",
    "plt.ylabel('Frequency')\n",
    "plt.legend()\n",
    "plt.grid(True)\n",
    "plt.show()\n"
   ]
  },
  {
   "cell_type": "markdown",
   "id": "c858af88",
   "metadata": {},
   "source": [
    "Visual Insights\n",
    "- Legitimate transactions (blue) vastly outnumber fraudulent ones (red).\n",
    "- Fraud appears across many value ranges, not just high-dollar transactions.\n",
    "- Some fraud exists in small-value transactions, suggesting card test charges.\n",
    "- Transaction amount alone is not enough to predict fraud, needs to be combined with other features."
   ]
  },
  {
   "cell_type": "markdown",
   "id": "1a94bfc5",
   "metadata": {},
   "source": [
    "## Question 3: Duplicate Transactions"
   ]
  },
  {
   "cell_type": "code",
   "execution_count": 130,
   "id": "d1e4f561",
   "metadata": {},
   "outputs": [],
   "source": [
    "df_cleaned['transactionDateTime'] = pd.to_datetime(df_cleaned['transactionDateTime'])\n",
    "\n",
    "df_sorted = df_cleaned.sort_values(by=['customerId', 'transactionDateTime']).reset_index(drop=True)\n"
   ]
  },
  {
   "cell_type": "markdown",
   "id": "806f7c4c",
   "metadata": {},
   "source": [
    "Detect Reversed Transactions"
   ]
  },
  {
   "cell_type": "code",
   "execution_count": 131,
   "id": "a2cd2f61",
   "metadata": {},
   "outputs": [],
   "source": [
    "from datetime import timedelta\n",
    "\n",
    "reversed_indices = []\n",
    "reversed_amount = 0.0\n",
    "\n",
    "for i in range(1, len(df_sorted)):\n",
    "    curr = df_sorted.iloc[i]\n",
    "    prev = df_sorted.iloc[i - 1]\n",
    "\n",
    "    if (\n",
    "        curr['customerId'] == prev['customerId'] and\n",
    "        curr['merchantName'] == prev['merchantName'] and\n",
    "        curr['transactionAmount'] == -prev['transactionAmount'] and\n",
    "        abs((curr['transactionDateTime'] - prev['transactionDateTime']).total_seconds()) <= 300\n",
    "    ):\n",
    "        reversed_indices.append(i)\n",
    "        reversed_amount += curr['transactionAmount']  # Will be negative\n"
   ]
  },
  {
   "cell_type": "markdown",
   "id": "cf51d00d",
   "metadata": {},
   "source": [
    " Detect Multi-Swipe Transactions"
   ]
  },
  {
   "cell_type": "code",
   "execution_count": 132,
   "id": "3266a9cd",
   "metadata": {},
   "outputs": [],
   "source": [
    "multi_swipe_indices = []\n",
    "multi_swipe_amount = 0.0\n",
    "\n",
    "for i in range(1, len(df_sorted)):\n",
    "    curr = df_sorted.iloc[i]\n",
    "    prev = df_sorted.iloc[i - 1]\n",
    "\n",
    "    if (\n",
    "        curr['customerId'] == prev['customerId'] and\n",
    "        curr['merchantName'] == prev['merchantName'] and\n",
    "        curr['transactionAmount'] == prev['transactionAmount'] and\n",
    "        abs((curr['transactionDateTime'] - prev['transactionDateTime']).total_seconds()) <= 300\n",
    "    ):\n",
    "        multi_swipe_indices.append(i)\n",
    "        multi_swipe_amount += curr['transactionAmount']\n"
   ]
  },
  {
   "cell_type": "markdown",
   "id": "8617325e",
   "metadata": {},
   "source": [
    "Summary Results"
   ]
  },
  {
   "cell_type": "code",
   "execution_count": 133,
   "id": "f93838ca",
   "metadata": {},
   "outputs": [
    {
     "name": "stdout",
     "output_type": "stream",
     "text": [
      " Multi-swipe duplicates found: 13285\n",
      " Total amount (excluding first swipes): $1,917,460.02\n",
      " Reversed transactions found: 399\n",
      " Total reversed amount (negative): $0.00\n"
     ]
    }
   ],
   "source": [
    "print(f\" Multi-swipe duplicates found: {len(multi_swipe_indices)}\")\n",
    "print(f\" Total amount (excluding first swipes): ${multi_swipe_amount:,.2f}\")\n",
    "\n",
    "print(f\" Reversed transactions found: {len(reversed_indices)}\")\n",
    "print(f\" Total reversed amount (negative): ${reversed_amount:,.2f}\")\n"
   ]
  },
  {
   "cell_type": "markdown",
   "id": "332103fb",
   "metadata": {},
   "source": [
    "Multi-swipes are much more common, and can meaningfully affect your data if not handled.\n",
    "\n",
    "Reversals, while rare, are clean and cancel each other out, they might not need as much attention unless you're focused on real-time transaction flows.\n",
    "\n",
    "Both types of transactions highlight the importance of temporal context (e.g., how close two transactions are in time) when interpreting transaction data or building fraud detection models."
   ]
  },
  {
   "cell_type": "code",
   "execution_count": 134,
   "id": "b51bb188",
   "metadata": {},
   "outputs": [],
   "source": [
    "df_sorted['isReversed'] = False\n",
    "df_sorted.loc[reversed_indices, 'isReversed'] = True\n",
    "\n",
    "df_sorted['isMultiSwipe'] = False\n",
    "df_sorted.loc[multi_swipe_indices, 'isMultiSwipe'] = True\n"
   ]
  },
  {
   "cell_type": "code",
   "execution_count": 135,
   "id": "a12e3c97",
   "metadata": {},
   "outputs": [
    {
     "name": "stderr",
     "output_type": "stream",
     "text": [
      "C:\\Users\\pc\\anaconda3\\lib\\site-packages\\seaborn\\_core.py:1225: FutureWarning: is_categorical_dtype is deprecated and will be removed in a future version. Use isinstance(dtype, CategoricalDtype) instead\n",
      "  if pd.api.types.is_categorical_dtype(vector):\n",
      "C:\\Users\\pc\\anaconda3\\lib\\site-packages\\seaborn\\_core.py:1225: FutureWarning: is_categorical_dtype is deprecated and will be removed in a future version. Use isinstance(dtype, CategoricalDtype) instead\n",
      "  if pd.api.types.is_categorical_dtype(vector):\n",
      "C:\\Users\\pc\\anaconda3\\lib\\site-packages\\seaborn\\_core.py:1225: FutureWarning: is_categorical_dtype is deprecated and will be removed in a future version. Use isinstance(dtype, CategoricalDtype) instead\n",
      "  if pd.api.types.is_categorical_dtype(vector):\n"
     ]
    },
    {
     "data": {
      "text/plain": [
       "<AxesSubplot:xlabel='isMultiSwipe', ylabel='count'>"
      ]
     },
     "execution_count": 135,
     "metadata": {},
     "output_type": "execute_result"
    },
    {
     "data": {
      "image/png": "[encoded data removed]",
      "text/plain": [
       "<Figure size 432x288 with 1 Axes>"
      ]
     },
     "metadata": {
      "needs_background": "light"
     },
     "output_type": "display_data"
    }
   ],
   "source": [
    "import seaborn as sns\n",
    "sns.countplot(x='isMultiSwipe', data=df_sorted)\n"
   ]
  },
  {
   "cell_type": "markdown",
   "id": "afd739ce",
   "metadata": {},
   "source": [
    "It gives a quick visual confirmation of how rare multi-swipes are.\n",
    "\n",
    "Reinforces the idea that multi-swipes are outliers, but still significant enough to clean up or analyze for fraud behavior."
   ]
  },
  {
   "cell_type": "markdown",
   "id": "4c04af85",
   "metadata": {},
   "source": [
    "## Question 4: Model"
   ]
  },
  {
   "cell_type": "markdown",
   "id": "6828b910",
   "metadata": {},
   "source": [
    "Build a Predictive Model"
   ]
  },
  {
   "cell_type": "code",
   "execution_count": 136,
   "id": "b675b054",
   "metadata": {},
   "outputs": [],
   "source": [
    "from sklearn.model_selection import train_test_split\n",
    "from sklearn.preprocessing import OrdinalEncoder\n",
    "from sklearn.impute import SimpleImputer\n",
    "from sklearn.metrics import (\n",
    "    classification_report, confusion_matrix, roc_auc_score, \n",
    "    precision_recall_curve\n",
    ")\n",
    "from xgboost import XGBClassifier\n",
    "from imblearn.over_sampling import SMOTE\n",
    "import numpy as np\n",
    "import pandas as pd\n",
    "import matplotlib.pyplot as plt"
   ]
  },
  {
   "cell_type": "code",
   "execution_count": 137,
   "id": "284ab47a",
   "metadata": {},
   "outputs": [],
   "source": [
    "\n",
    "drop_cols = ['accountNumber', 'customerId', 'transactionDateTime', 'cardCVV', \n",
    "             'enteredCVV', 'cardLast4Digits']\n",
    "X = df_encoded.drop(columns=drop_cols + ['isFraud'])\n",
    "y = df_encoded['isFraud']"
   ]
  },
  {
   "cell_type": "code",
   "execution_count": 138,
   "id": "567fdee0",
   "metadata": {},
   "outputs": [],
   "source": [
    "X_train, X_test, y_train, y_test = train_test_split(\n",
    "    X, y, test_size=0.25, stratify=y, random_state=42)\n"
   ]
  },
  {
   "cell_type": "code",
   "execution_count": 139,
   "id": "7835f282",
   "metadata": {},
   "outputs": [],
   "source": [
    "non_numeric_cols = X_train.select_dtypes(include=['object']).columns\n",
    "if len(non_numeric_cols) > 0:\n",
    "    encoder = OrdinalEncoder(handle_unknown='use_encoded_value', unknown_value=-1)\n",
    "    X_train[non_numeric_cols] = encoder.fit_transform(X_train[non_numeric_cols])"
   ]
  },
  {
   "cell_type": "code",
   "execution_count": 140,
   "id": "dbbcd502",
   "metadata": {},
   "outputs": [],
   "source": [
    "X_train = pd.DataFrame(SimpleImputer(strategy='median').fit_transform(X_train), \n",
    "                       columns=X_train.columns)"
   ]
  },
  {
   "cell_type": "code",
   "execution_count": 141,
   "id": "88bf7ab6",
   "metadata": {},
   "outputs": [
    {
     "name": "stdout",
     "output_type": "stream",
     "text": [
      " SMOTE applied. Shape: (1160918, 93)\n"
     ]
    }
   ],
   "source": [
    "smote = SMOTE(random_state=42)\n",
    "X_train_bal, y_train_bal = smote.fit_resample(X_train, y_train)\n",
    "print(\" SMOTE applied. Shape:\", X_train_bal.shape)"
   ]
  },
  {
   "cell_type": "code",
   "execution_count": 142,
   "id": "f03efd5e",
   "metadata": {},
   "outputs": [
    {
     "data": {
      "text/html": [
       "<style>#sk-container-id-2 {\n",
       "  /* Definition of color scheme common for light and dark mode */\n",
       "  --sklearn-color-text: black;\n",
       "  --sklearn-color-line: gray;\n",
       "  /* Definition of color scheme for unfitted estimators */\n",
       "  --sklearn-color-unfitted-level-0: #fff5e6;\n",
       "  --sklearn-color-unfitted-level-1: #f6e4d2;\n",
       "  --sklearn-color-unfitted-level-2: #ffe0b3;\n",
       "  --sklearn-color-unfitted-level-3: chocolate;\n",
       "  /* Definition of color scheme for fitted estimators */\n",
       "  --sklearn-color-fitted-level-0: #f0f8ff;\n",
       "  --sklearn-color-fitted-level-1: #d4ebff;\n",
       "  --sklearn-color-fitted-level-2: #b3dbfd;\n",
       "  --sklearn-color-fitted-level-3: cornflowerblue;\n",
       "\n",
       "  /* Specific color for light theme */\n",
       "  --sklearn-color-text-on-default-background: var(--sg-text-color, var(--theme-code-foreground, var(--jp-content-font-color1, black)));\n",
       "  --sklearn-color-background: var(--sg-background-color, var(--theme-background, var(--jp-layout-color0, white)));\n",
       "  --sklearn-color-border-box: var(--sg-text-color, var(--theme-code-foreground, var(--jp-content-font-color1, black)));\n",
       "  --sklearn-color-icon: #696969;\n",
       "\n",
       "  @media (prefers-color-scheme: dark) {\n",
       "    /* Redefinition of color scheme for dark theme */\n",
       "    --sklearn-color-text-on-default-background: var(--sg-text-color, var(--theme-code-foreground, var(--jp-content-font-color1, white)));\n",
       "    --sklearn-color-background: var(--sg-background-color, var(--theme-background, var(--jp-layout-color0, #111)));\n",
       "    --sklearn-color-border-box: var(--sg-text-color, var(--theme-code-foreground, var(--jp-content-font-color1, white)));\n",
       "    --sklearn-color-icon: #878787;\n",
       "  }\n",
       "}\n",
       "\n",
       "#sk-container-id-2 {\n",
       "  color: var(--sklearn-color-text);\n",
       "}\n",
       "\n",
       "#sk-container-id-2 pre {\n",
       "  padding: 0;\n",
       "}\n",
       "\n",
       "#sk-container-id-2 input.sk-hidden--visually {\n",
       "  border: 0;\n",
       "  clip: rect(1px 1px 1px 1px);\n",
       "  clip: rect(1px, 1px, 1px, 1px);\n",
       "  height: 1px;\n",
       "  margin: -1px;\n",
       "  overflow: hidden;\n",
       "  padding: 0;\n",
       "  position: absolute;\n",
       "  width: 1px;\n",
       "}\n",
       "\n",
       "#sk-container-id-2 div.sk-dashed-wrapped {\n",
       "  border: 1px dashed var(--sklearn-color-line);\n",
       "  margin: 0 0.4em 0.5em 0.4em;\n",
       "  box-sizing: border-box;\n",
       "  padding-bottom: 0.4em;\n",
       "  background-color: var(--sklearn-color-background);\n",
       "}\n",
       "\n",
       "#sk-container-id-2 div.sk-container {\n",
       "  /* jupyter's `normalize.less` sets `[hidden] { display: none; }`\n",
       "     but bootstrap.min.css set `[hidden] { display: none !important; }`\n",
       "     so we also need the `!important` here to be able to override the\n",
       "     default hidden behavior on the sphinx rendered scikit-learn.org.\n",
       "     See: https://github.com/scikit-learn/scikit-learn/issues/21755 */\n",
       "  display: inline-block !important;\n",
       "  position: relative;\n",
       "}\n",
       "\n",
       "#sk-container-id-2 div.sk-text-repr-fallback {\n",
       "  display: none;\n",
       "}\n",
       "\n",
       "div.sk-parallel-item,\n",
       "div.sk-serial,\n",
       "div.sk-item {\n",
       "  /* draw centered vertical line to link estimators */\n",
       "  background-image: linear-gradient(var(--sklearn-color-text-on-default-background), var(--sklearn-color-text-on-default-background));\n",
       "  background-size: 2px 100%;\n",
       "  background-repeat: no-repeat;\n",
       "  background-position: center center;\n",
       "}\n",
       "\n",
       "/* Parallel-specific style estimator block */\n",
       "\n",
       "#sk-container-id-2 div.sk-parallel-item::after {\n",
       "  content: \"\";\n",
       "  width: 100%;\n",
       "  border-bottom: 2px solid var(--sklearn-color-text-on-default-background);\n",
       "  flex-grow: 1;\n",
       "}\n",
       "\n",
       "#sk-container-id-2 div.sk-parallel {\n",
       "  display: flex;\n",
       "  align-items: stretch;\n",
       "  justify-content: center;\n",
       "  background-color: var(--sklearn-color-background);\n",
       "  position: relative;\n",
       "}\n",
       "\n",
       "#sk-container-id-2 div.sk-parallel-item {\n",
       "  display: flex;\n",
       "  flex-direction: column;\n",
       "}\n",
       "\n",
       "#sk-container-id-2 div.sk-parallel-item:first-child::after {\n",
       "  align-self: flex-end;\n",
       "  width: 50%;\n",
       "}\n",
       "\n",
       "#sk-container-id-2 div.sk-parallel-item:last-child::after {\n",
       "  align-self: flex-start;\n",
       "  width: 50%;\n",
       "}\n",
       "\n",
       "#sk-container-id-2 div.sk-parallel-item:only-child::after {\n",
       "  width: 0;\n",
       "}\n",
       "\n",
       "/* Serial-specific style estimator block */\n",
       "\n",
       "#sk-container-id-2 div.sk-serial {\n",
       "  display: flex;\n",
       "  flex-direction: column;\n",
       "  align-items: center;\n",
       "  background-color: var(--sklearn-color-background);\n",
       "  padding-right: 1em;\n",
       "  padding-left: 1em;\n",
       "}\n",
       "\n",
       "\n",
       "/* Toggleable style: style used for estimator/Pipeline/ColumnTransformer box that is\n",
       "clickable and can be expanded/collapsed.\n",
       "- Pipeline and ColumnTransformer use this feature and define the default style\n",
       "- Estimators will overwrite some part of the style using the `sk-estimator` class\n",
       "*/\n",
       "\n",
       "/* Pipeline and ColumnTransformer style (default) */\n",
       "\n",
       "#sk-container-id-2 div.sk-toggleable {\n",
       "  /* Default theme specific background. It is overwritten whether we have a\n",
       "  specific estimator or a Pipeline/ColumnTransformer */\n",
       "  background-color: var(--sklearn-color-background);\n",
       "}\n",
       "\n",
       "/* Toggleable label */\n",
       "#sk-container-id-2 label.sk-toggleable__label {\n",
       "  cursor: pointer;\n",
       "  display: block;\n",
       "  width: 100%;\n",
       "  margin-bottom: 0;\n",
       "  padding: 0.5em;\n",
       "  box-sizing: border-box;\n",
       "  text-align: center;\n",
       "}\n",
       "\n",
       "#sk-container-id-2 label.sk-toggleable__label-arrow:before {\n",
       "  /* Arrow on the left of the label */\n",
       "  content: \"▸\";\n",
       "  float: left;\n",
       "  margin-right: 0.25em;\n",
       "  color: var(--sklearn-color-icon);\n",
       "}\n",
       "\n",
       "#sk-container-id-2 label.sk-toggleable__label-arrow:hover:before {\n",
       "  color: var(--sklearn-color-text);\n",
       "}\n",
       "\n",
       "/* Toggleable content - dropdown */\n",
       "\n",
       "#sk-container-id-2 div.sk-toggleable__content {\n",
       "  max-height: 0;\n",
       "  max-width: 0;\n",
       "  overflow: hidden;\n",
       "  text-align: left;\n",
       "  /* unfitted */\n",
       "  background-color: var(--sklearn-color-unfitted-level-0);\n",
       "}\n",
       "\n",
       "#sk-container-id-2 div.sk-toggleable__content.fitted {\n",
       "  /* fitted */\n",
       "  background-color: var(--sklearn-color-fitted-level-0);\n",
       "}\n",
       "\n",
       "#sk-container-id-2 div.sk-toggleable__content pre {\n",
       "  margin: 0.2em;\n",
       "  border-radius: 0.25em;\n",
       "  color: var(--sklearn-color-text);\n",
       "  /* unfitted */\n",
       "  background-color: var(--sklearn-color-unfitted-level-0);\n",
       "}\n",
       "\n",
       "#sk-container-id-2 div.sk-toggleable__content.fitted pre {\n",
       "  /* unfitted */\n",
       "  background-color: var(--sklearn-color-fitted-level-0);\n",
       "}\n",
       "\n",
       "#sk-container-id-2 input.sk-toggleable__control:checked~div.sk-toggleable__content {\n",
       "  /* Expand drop-down */\n",
       "  max-height: 200px;\n",
       "  max-width: 100%;\n",
       "  overflow: auto;\n",
       "}\n",
       "\n",
       "#sk-container-id-2 input.sk-toggleable__control:checked~label.sk-toggleable__label-arrow:before {\n",
       "  content: \"▾\";\n",
       "}\n",
       "\n",
       "/* Pipeline/ColumnTransformer-specific style */\n",
       "\n",
       "#sk-container-id-2 div.sk-label input.sk-toggleable__control:checked~label.sk-toggleable__label {\n",
       "  color: var(--sklearn-color-text);\n",
       "  background-color: var(--sklearn-color-unfitted-level-2);\n",
       "}\n",
       "\n",
       "#sk-container-id-2 div.sk-label.fitted input.sk-toggleable__control:checked~label.sk-toggleable__label {\n",
       "  background-color: var(--sklearn-color-fitted-level-2);\n",
       "}\n",
       "\n",
       "/* Estimator-specific style */\n",
       "\n",
       "/* Colorize estimator box */\n",
       "#sk-container-id-2 div.sk-estimator input.sk-toggleable__control:checked~label.sk-toggleable__label {\n",
       "  /* unfitted */\n",
       "  background-color: var(--sklearn-color-unfitted-level-2);\n",
       "}\n",
       "\n",
       "#sk-container-id-2 div.sk-estimator.fitted input.sk-toggleable__control:checked~label.sk-toggleable__label {\n",
       "  /* fitted */\n",
       "  background-color: var(--sklearn-color-fitted-level-2);\n",
       "}\n",
       "\n",
       "#sk-container-id-2 div.sk-label label.sk-toggleable__label,\n",
       "#sk-container-id-2 div.sk-label label {\n",
       "  /* The background is the default theme color */\n",
       "  color: var(--sklearn-color-text-on-default-background);\n",
       "}\n",
       "\n",
       "/* On hover, darken the color of the background */\n",
       "#sk-container-id-2 div.sk-label:hover label.sk-toggleable__label {\n",
       "  color: var(--sklearn-color-text);\n",
       "  background-color: var(--sklearn-color-unfitted-level-2);\n",
       "}\n",
       "\n",
       "/* Label box, darken color on hover, fitted */\n",
       "#sk-container-id-2 div.sk-label.fitted:hover label.sk-toggleable__label.fitted {\n",
       "  color: var(--sklearn-color-text);\n",
       "  background-color: var(--sklearn-color-fitted-level-2);\n",
       "}\n",
       "\n",
       "/* Estimator label */\n",
       "\n",
       "#sk-container-id-2 div.sk-label label {\n",
       "  font-family: monospace;\n",
       "  font-weight: bold;\n",
       "  display: inline-block;\n",
       "  line-height: 1.2em;\n",
       "}\n",
       "\n",
       "#sk-container-id-2 div.sk-label-container {\n",
       "  text-align: center;\n",
       "}\n",
       "\n",
       "/* Estimator-specific */\n",
       "#sk-container-id-2 div.sk-estimator {\n",
       "  font-family: monospace;\n",
       "  border: 1px dotted var(--sklearn-color-border-box);\n",
       "  border-radius: 0.25em;\n",
       "  box-sizing: border-box;\n",
       "  margin-bottom: 0.5em;\n",
       "  /* unfitted */\n",
       "  background-color: var(--sklearn-color-unfitted-level-0);\n",
       "}\n",
       "\n",
       "#sk-container-id-2 div.sk-estimator.fitted {\n",
       "  /* fitted */\n",
       "  background-color: var(--sklearn-color-fitted-level-0);\n",
       "}\n",
       "\n",
       "/* on hover */\n",
       "#sk-container-id-2 div.sk-estimator:hover {\n",
       "  /* unfitted */\n",
       "  background-color: var(--sklearn-color-unfitted-level-2);\n",
       "}\n",
       "\n",
       "#sk-container-id-2 div.sk-estimator.fitted:hover {\n",
       "  /* fitted */\n",
       "  background-color: var(--sklearn-color-fitted-level-2);\n",
       "}\n",
       "\n",
       "/* Specification for estimator info (e.g. \"i\" and \"?\") */\n",
       "\n",
       "/* Common style for \"i\" and \"?\" */\n",
       "\n",
       ".sk-estimator-doc-link,\n",
       "a:link.sk-estimator-doc-link,\n",
       "a:visited.sk-estimator-doc-link {\n",
       "  float: right;\n",
       "  font-size: smaller;\n",
       "  line-height: 1em;\n",
       "  font-family: monospace;\n",
       "  background-color: var(--sklearn-color-background);\n",
       "  border-radius: 1em;\n",
       "  height: 1em;\n",
       "  width: 1em;\n",
       "  text-decoration: none !important;\n",
       "  margin-left: 1ex;\n",
       "  /* unfitted */\n",
       "  border: var(--sklearn-color-unfitted-level-1) 1pt solid;\n",
       "  color: var(--sklearn-color-unfitted-level-1);\n",
       "}\n",
       "\n",
       ".sk-estimator-doc-link.fitted,\n",
       "a:link.sk-estimator-doc-link.fitted,\n",
       "a:visited.sk-estimator-doc-link.fitted {\n",
       "  /* fitted */\n",
       "  border: var(--sklearn-color-fitted-level-1) 1pt solid;\n",
       "  color: var(--sklearn-color-fitted-level-1);\n",
       "}\n",
       "\n",
       "/* On hover */\n",
       "div.sk-estimator:hover .sk-estimator-doc-link:hover,\n",
       ".sk-estimator-doc-link:hover,\n",
       "div.sk-label-container:hover .sk-estimator-doc-link:hover,\n",
       ".sk-estimator-doc-link:hover {\n",
       "  /* unfitted */\n",
       "  background-color: var(--sklearn-color-unfitted-level-3);\n",
       "  color: var(--sklearn-color-background);\n",
       "  text-decoration: none;\n",
       "}\n",
       "\n",
       "div.sk-estimator.fitted:hover .sk-estimator-doc-link.fitted:hover,\n",
       ".sk-estimator-doc-link.fitted:hover,\n",
       "div.sk-label-container:hover .sk-estimator-doc-link.fitted:hover,\n",
       ".sk-estimator-doc-link.fitted:hover {\n",
       "  /* fitted */\n",
       "  background-color: var(--sklearn-color-fitted-level-3);\n",
       "  color: var(--sklearn-color-background);\n",
       "  text-decoration: none;\n",
       "}\n",
       "\n",
       "/* Span, style for the box shown on hovering the info icon */\n",
       ".sk-estimator-doc-link span {\n",
       "  display: none;\n",
       "  z-index: 9999;\n",
       "  position: relative;\n",
       "  font-weight: normal;\n",
       "  right: .2ex;\n",
       "  padding: .5ex;\n",
       "  margin: .5ex;\n",
       "  width: min-content;\n",
       "  min-width: 20ex;\n",
       "  max-width: 50ex;\n",
       "  color: var(--sklearn-color-text);\n",
       "  box-shadow: 2pt 2pt 4pt #999;\n",
       "  /* unfitted */\n",
       "  background: var(--sklearn-color-unfitted-level-0);\n",
       "  border: .5pt solid var(--sklearn-color-unfitted-level-3);\n",
       "}\n",
       "\n",
       ".sk-estimator-doc-link.fitted span {\n",
       "  /* fitted */\n",
       "  background: var(--sklearn-color-fitted-level-0);\n",
       "  border: var(--sklearn-color-fitted-level-3);\n",
       "}\n",
       "\n",
       ".sk-estimator-doc-link:hover span {\n",
       "  display: block;\n",
       "}\n",
       "\n",
       "/* \"?\"-specific style due to the `<a>` HTML tag */\n",
       "\n",
       "#sk-container-id-2 a.estimator_doc_link {\n",
       "  float: right;\n",
       "  font-size: 1rem;\n",
       "  line-height: 1em;\n",
       "  font-family: monospace;\n",
       "  background-color: var(--sklearn-color-background);\n",
       "  border-radius: 1rem;\n",
       "  height: 1rem;\n",
       "  width: 1rem;\n",
       "  text-decoration: none;\n",
       "  /* unfitted */\n",
       "  color: var(--sklearn-color-unfitted-level-1);\n",
       "  border: var(--sklearn-color-unfitted-level-1) 1pt solid;\n",
       "}\n",
       "\n",
       "#sk-container-id-2 a.estimator_doc_link.fitted {\n",
       "  /* fitted */\n",
       "  border: var(--sklearn-color-fitted-level-1) 1pt solid;\n",
       "  color: var(--sklearn-color-fitted-level-1);\n",
       "}\n",
       "\n",
       "/* On hover */\n",
       "#sk-container-id-2 a.estimator_doc_link:hover {\n",
       "  /* unfitted */\n",
       "  background-color: var(--sklearn-color-unfitted-level-3);\n",
       "  color: var(--sklearn-color-background);\n",
       "  text-decoration: none;\n",
       "}\n",
       "\n",
       "#sk-container-id-2 a.estimator_doc_link.fitted:hover {\n",
       "  /* fitted */\n",
       "  background-color: var(--sklearn-color-fitted-level-3);\n",
       "}\n",
       "</style><div id=\"sk-container-id-2\" class=\"sk-top-container\"><div class=\"sk-text-repr-fallback\"><pre>XGBClassifier(base_score=None, booster=None, callbacks=None,\n",
       "              colsample_bylevel=None, colsample_bynode=None,\n",
       "              colsample_bytree=0.8, device=None, early_stopping_rounds=None,\n",
       "              enable_categorical=False, eval_metric=&#x27;logloss&#x27;,\n",
       "              feature_types=None, gamma=None, grow_policy=None,\n",
       "              importance_type=None, interaction_constraints=None,\n",
       "              learning_rate=0.1, max_bin=None, max_cat_threshold=None,\n",
       "              max_cat_to_onehot=None, max_delta_step=None, max_depth=6,\n",
       "              max_leaves=None, min_child_weight=None, missing=nan,\n",
       "              monotone_constraints=None, multi_strategy=None, n_estimators=200,\n",
       "              n_jobs=None, num_parallel_tree=None, random_state=42, ...)</pre><b>In a Jupyter environment, please rerun this cell to show the HTML representation or trust the notebook. <br />On GitHub, the HTML representation is unable to render, please try loading this page with nbviewer.org.</b></div><div class=\"sk-container\" hidden><div class=\"sk-item\"><div class=\"sk-estimator fitted sk-toggleable\"><input class=\"sk-toggleable__control sk-hidden--visually\" id=\"sk-estimator-id-2\" type=\"checkbox\" checked><label for=\"sk-estimator-id-2\" class=\"sk-toggleable__label fitted sk-toggleable__label-arrow fitted\">&nbsp;XGBClassifier<span class=\"sk-estimator-doc-link fitted\">i<span>Fitted</span></span></label><div class=\"sk-toggleable__content fitted\"><pre>XGBClassifier(base_score=None, booster=None, callbacks=None,\n",
       "              colsample_bylevel=None, colsample_bynode=None,\n",
       "              colsample_bytree=0.8, device=None, early_stopping_rounds=None,\n",
       "              enable_categorical=False, eval_metric=&#x27;logloss&#x27;,\n",
       "              feature_types=None, gamma=None, grow_policy=None,\n",
       "              importance_type=None, interaction_constraints=None,\n",
       "              learning_rate=0.1, max_bin=None, max_cat_threshold=None,\n",
       "              max_cat_to_onehot=None, max_delta_step=None, max_depth=6,\n",
       "              max_leaves=None, min_child_weight=None, missing=nan,\n",
       "              monotone_constraints=None, multi_strategy=None, n_estimators=200,\n",
       "              n_jobs=None, num_parallel_tree=None, random_state=42, ...)</pre></div> </div></div></div></div>"
      ],
      "text/plain": [
       "XGBClassifier(base_score=None, booster=None, callbacks=None,\n",
       "              colsample_bylevel=None, colsample_bynode=None,\n",
       "              colsample_bytree=0.8, device=None, early_stopping_rounds=None,\n",
       "              enable_categorical=False, eval_metric='logloss',\n",
       "              feature_types=None, gamma=None, grow_policy=None,\n",
       "              importance_type=None, interaction_constraints=None,\n",
       "              learning_rate=0.1, max_bin=None, max_cat_threshold=None,\n",
       "              max_cat_to_onehot=None, max_delta_step=None, max_depth=6,\n",
       "              max_leaves=None, min_child_weight=None, missing=nan,\n",
       "              monotone_constraints=None, multi_strategy=None, n_estimators=200,\n",
       "              n_jobs=None, num_parallel_tree=None, random_state=42, ...)"
      ]
     },
     "execution_count": 142,
     "metadata": {},
     "output_type": "execute_result"
    }
   ],
   "source": [
    "xgb = XGBClassifier(\n",
    "    n_estimators=200,\n",
    "    learning_rate=0.1,\n",
    "    max_depth=6,\n",
    "    subsample=0.8,\n",
    "    colsample_bytree=0.8,\n",
    "    eval_metric='logloss',\n",
    "    random_state=42\n",
    ")\n",
    "xgb.fit(X_train_bal, y_train_bal)\n"
   ]
  },
  {
   "cell_type": "code",
   "execution_count": 143,
   "id": "a78888fc",
   "metadata": {},
   "outputs": [],
   "source": [
    "non_numeric_test = X_test.select_dtypes(include='object').columns\n",
    "if len(non_numeric_test) > 0:\n",
    "    encoder = OrdinalEncoder(handle_unknown='use_encoded_value', unknown_value=-1)\n",
    "    X_test[non_numeric_test] = encoder.fit_transform(X_test[non_numeric_test])\n",
    "X_test = pd.DataFrame(SimpleImputer(strategy='median').fit_transform(X_test), \n",
    "                      columns=X_test.columns)\n"
   ]
  },
  {
   "cell_type": "code",
   "execution_count": 144,
   "id": "8cde328e",
   "metadata": {},
   "outputs": [
    {
     "name": "stdout",
     "output_type": "stream",
     "text": [
      "\n",
      " Classification Report @ 0.5 threshold\n",
      "              precision    recall  f1-score   support\n",
      "\n",
      "       False       0.98      1.00      0.99    193487\n",
      "        True       0.69      0.00      0.01      3104\n",
      "\n",
      "    accuracy                           0.98    196591\n",
      "   macro avg       0.84      0.50      0.50    196591\n",
      "weighted avg       0.98      0.98      0.98    196591\n",
      "\n",
      "Confusion Matrix:\n",
      " [[193483      4]\n",
      " [  3095      9]]\n",
      "ROC-AUC Score: 0.7685721373486346\n"
     ]
    }
   ],
   "source": [
    "y_proba = xgb.predict_proba(X_test)[:, 1]\n",
    "y_pred = (y_proba >= 0.5).astype(int)\n",
    "\n",
    "print(\"\\n Classification Report @ 0.5 threshold\")\n",
    "print(classification_report(y_test, y_pred))\n",
    "print(\"Confusion Matrix:\\n\", confusion_matrix(y_test, y_pred))\n",
    "print(\"ROC-AUC Score:\", roc_auc_score(y_test, y_proba))"
   ]
  },
  {
   "cell_type": "code",
   "execution_count": 145,
   "id": "436b8154",
   "metadata": {},
   "outputs": [
    {
     "name": "stdout",
     "output_type": "stream",
     "text": [
      "\n",
      " Best Threshold: 0.1377\n",
      "Precision: 0.1209, Recall: 0.1514, F1: 0.1344\n"
     ]
    }
   ],
   "source": [
    "precision, recall, thresholds = precision_recall_curve(y_test, y_proba)\n",
    "f1 = 2 * (precision * recall) / (precision + recall + 1e-6)\n",
    "best_idx = np.argmax(f1)\n",
    "best_threshold = thresholds[best_idx]\n",
    "\n",
    "print(f\"\\n Best Threshold: {best_threshold:.4f}\")\n",
    "print(f\"Precision: {precision[best_idx]:.4f}, Recall: {recall[best_idx]:.4f}, F1: {f1[best_idx]:.4f}\")"
   ]
  },
  {
   "cell_type": "code",
   "execution_count": 146,
   "id": "034cc7da",
   "metadata": {},
   "outputs": [
    {
     "name": "stdout",
     "output_type": "stream",
     "text": [
      "\n",
      " Tuned Classification Report\n",
      "              precision    recall  f1-score   support\n",
      "\n",
      "       False       0.99      0.98      0.98    193487\n",
      "        True       0.12      0.15      0.13      3104\n",
      "\n",
      "    accuracy                           0.97    196591\n",
      "   macro avg       0.55      0.57      0.56    196591\n",
      "weighted avg       0.97      0.97      0.97    196591\n",
      "\n",
      "Confusion Matrix:\n",
      " [[190068   3419]\n",
      " [  2634    470]]\n"
     ]
    }
   ],
   "source": [
    "y_pred_tuned = (y_proba >= best_threshold).astype(int)\n",
    "print(\"\\n Tuned Classification Report\")\n",
    "print(classification_report(y_test, y_pred_tuned))\n",
    "print(\"Confusion Matrix:\\n\", confusion_matrix(y_test, y_pred_tuned))"
   ]
  },
  {
   "cell_type": "code",
   "execution_count": 147,
   "id": "5d97af6d",
   "metadata": {},
   "outputs": [
    {
     "data": {
      "image/png": "[encoded data removed]",
      "text/plain": [
       "<Figure size 720x432 with 1 Axes>"
      ]
     },
     "metadata": {
      "needs_background": "light"
     },
     "output_type": "display_data"
    }
   ],
   "source": [
    "importances = xgb.feature_importances_\n",
    "top_idx = np.argsort(importances)[-20:]\n",
    "top_features = X.columns[top_idx]\n",
    "top_scores = importances[top_idx]\n",
    "\n",
    "plt.figure(figsize=(10, 6))\n",
    "plt.barh(top_features, top_scores)\n",
    "plt.xlabel(\"Feature Importance\")\n",
    "plt.title(\"Top 20 Important Features (XGBoost)\")\n",
    "plt.grid(True)\n",
    "plt.gca().invert_yaxis()\n",
    "plt.tight_layout()\n",
    "plt.show()"
   ]
  },
  {
   "cell_type": "code",
   "execution_count": 151,
   "id": "3fb5c86f",
   "metadata": {},
   "outputs": [
    {
     "name": "stdout",
     "output_type": "stream",
     "text": [
      "RF ROC-AUC: 0.7590679217093835\n"
     ]
    }
   ],
   "source": [
    "from sklearn.ensemble import RandomForestClassifier\n",
    "rf = RandomForestClassifier(n_estimators=100, class_weight='balanced', random_state=42)\n",
    "rf.fit(X_train_bal, y_train_bal)\n",
    "print(\"RF ROC-AUC:\", roc_auc_score(y_test, rf.predict_proba(X_test)[:, 1]))\n"
   ]
  },
  {
   "cell_type": "markdown",
   "id": "750b2a63",
   "metadata": {},
   "source": []
  },
  {
   "cell_type": "markdown",
   "id": "583daf70",
   "metadata": {},
   "source": [
    "<!DOCTYPE html>\n",
    "<html lang=\"en\">\n",
    "<head>\n",
    "  <meta charset=\"UTF-8\">\n",
    " \n",
    "  <style>\n",
    "    body { font-family: \"Segoe UI\", Tahoma, Geneva, Verdana, sans-serif; margin: 40px; line-height: 1.6; color: #333; }\n",
    "    h1, h2 { color: #1a1a1a; }\n",
    "    h1 { font-size: 28px; border-bottom: 2px solid #ccc; padding-bottom: 5px; }\n",
    "    h2 { font-size: 22px; margin-top: 30px; }\n",
    "    ul { margin-top: 5px; }\n",
    "    li { margin-bottom: 6px; }\n",
    "  </style>\n",
    "</head>\n",
    "<body>\n",
    "\n",
    "  <h1>Card Transaction Fraud Detection – Project Summary</h1>\n",
    "\n",
    "  <h2>Objective</h2>\n",
    "  <p>The objective was to build a predictive model to detect fraudulent credit card transactions using a real-world, high-volume dataset. The dataset includes customer behavior, transaction metadata, and merchant-level information.</p>\n",
    "\n",
    "  <h2>1. Data Loading and Initial Exploration</h2>\n",
    "  <ul>\n",
    "    <li>Loaded 786,363 transactions from a line-delimited JSON file.</li>\n",
    "    <li>Dataset contained 29 fields covering transaction amount, merchant, location, time, and fraud label.</li>\n",
    "    <li>Validated data integrity, data types, and identified low-variance or redundant features for removal.</li>\n",
    "  </ul>\n",
    "\n",
    "  <h2>2. Data Cleaning and Feature Engineering</h2>\n",
    "  <ul>\n",
    "    <li>Dropped columns with no variability such as merchant location and echo buffer fields.</li>\n",
    "    <li>Parsed timestamps to extract hour, day, weekday, and month as new features.</li>\n",
    "    <li>Limited the cardinality of merchant names by keeping only the top 50 and grouping others into \"Other\".</li>\n",
    "    <li>Applied one-hot encoding to selected categorical features.</li>\n",
    "    <li>Final dataset shape after encoding: 786,363 rows and 100 columns.</li>\n",
    "  </ul>\n",
    "\n",
    "  <h2>3. Exploratory Analysis</h2>\n",
    "  <ul>\n",
    "    <li>Only 1.58% of all transactions were labeled as fraudulent, confirming severe class imbalance.</li>\n",
    "    <li>Transaction amounts were heavily right-skewed, with most transactions below $50.</li>\n",
    "    <li>Boxplot analysis showed fraudulent transactions had a higher median value and greater spread.</li>\n",
    "    <li>Created a log-transformed version of transaction amounts and binned them into Low, Medium, and High categories.</li>\n",
    "  </ul>\n",
    "\n",
    "  <h2>4. Duplicate Transaction Detection</h2>\n",
    "  <ul>\n",
    "    <li>Identified 13,285 multi-swipe transactions (same amount and merchant within 5 minutes), totaling over $1.92 million.</li>\n",
    "    <li>Detected 399 reversed transactions, where a charge was canceled out shortly after.</li>\n",
    "    <li>Flagged both types with binary features for potential model input or cleaning.</li>\n",
    "  </ul>\n",
    "\n",
    "  <h2>5. Predictive Modeling with XGBoost</h2>\n",
    "  <ul>\n",
    "    <li>Removed high-cardinality identifiers that could introduce noise or data leakage.</li>\n",
    "    <li>Handled categorical columns using ordinal encoding with unknown value handling.</li>\n",
    "    <li>Filled missing values using median imputation to maintain robustness.</li>\n",
    "    <li>Applied SMOTE to balance the training set due to extreme class imbalance.</li>\n",
    "    <li>Trained an XGBoost model with 200 estimators and a maximum depth of 6.</li>\n",
    "    <li>Initial ROC-AUC score: 0.768. However, recall was very low at the default threshold (0.5).</li>\n",
    "  </ul>\n",
    "\n",
    "  <h2>6. Threshold Optimization</h2>\n",
    "  <ul>\n",
    "    <li>Used the precision-recall curve to find the optimal decision threshold for F1 score.</li>\n",
    "    <li>Optimal threshold: 0.1377, resulting in:\n",
    "      <ul>\n",
    "        <li>Precision: 12.1%</li>\n",
    "        <li>Recall: 15.1%</li>\n",
    "        <li>F1 Score: 13.4%</li>\n",
    "      </ul>\n",
    "    </li>\n",
    "    <li>Significant improvement in fraud capture rate while maintaining acceptable false positives.</li>\n",
    "  </ul>\n",
    "\n",
    "  <h2>7. Feature Importance</h2>\n",
    "  <ul>\n",
    "    <li>Top contributing features included available money, transaction hour, transaction amount, merchant category, and card presence.</li>\n",
    "    <li>Confirmed the relevance of combining behavioral, temporal, and categorical signals.</li>\n",
    "  </ul>\n",
    "\n",
    "  <h2>8. Random Forest Benchmark</h2>\n",
    "  <ul>\n",
    "    <li>Trained a Random Forest classifier with balanced class weights for comparison.</li>\n",
    "    <li>Achieved ROC-AUC of 0.759, slightly lower than XGBoost.</li>\n",
    "    <li>XGBoost selected as the final model due to better F1 performance and tuning flexibility.</li>\n",
    "  </ul>\n",
    "\n",
    "  <h2>Conclusion</h2>\n",
    "  <ul>\n",
    "    <li>The final pipeline is end-to-end, production-ready, and optimized for highly imbalanced fraud scenarios.</li>\n",
    "    <li>SMOTE and threshold tuning were critical for recall performance.</li>\n",
    "    <li>Model is suitable for deployment in real-time fraud detection systems with threshold-based control.</li>\n",
    "    <li>Future work includes ensemble modeling, cost-sensitive evaluation, and time-based validation.</li>\n",
    "  </ul>\n",
    "\n",
    "</body>\n",
    "</html>\n"
   ]
  },
  {
   "cell_type": "code",
   "execution_count": null,
   "id": "3d5da6c1",
   "metadata": {},
   "outputs": [],
   "source": []
  }
 ],
 "metadata": {
  "kernelspec": {
   "display_name": "Python 3 (ipykernel)",
   "language": "python",
   "name": "python3"
  },
  "language_info": {
   "codemirror_mode": {
    "name": "ipython",
    "version": 3
   },
   "file_extension": ".py",
   "mimetype": "text/x-python",
   "name": "python",
   "nbconvert_exporter": "python",
   "pygments_lexer": "ipython3",
   "version": "3.9.12"
  }
 },
 "nbformat": 4,
 "nbformat_minor": 5
}
